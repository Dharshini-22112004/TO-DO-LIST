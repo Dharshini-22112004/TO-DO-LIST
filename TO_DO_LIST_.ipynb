{
  "nbformat": 4,
  "nbformat_minor": 0,
  "metadata": {
    "colab": {
      "provenance": [],
      "authorship_tag": "ABX9TyOiq1DqIE6dTbWjT24En46T",
      "include_colab_link": true
    },
    "kernelspec": {
      "name": "python3",
      "display_name": "Python 3"
    },
    "language_info": {
      "name": "python"
    }
  },
  "cells": [
    {
      "cell_type": "markdown",
      "metadata": {
        "id": "view-in-github",
        "colab_type": "text"
      },
      "source": [
        "<a href=\"https://colab.research.google.com/github/Dharshini-22112004/TO-DO-LIST/blob/main/TO_DO_LIST_.ipynb\" target=\"_parent\"><img src=\"https://colab.research.google.com/assets/colab-badge.svg\" alt=\"Open In Colab\"/></a>"
      ]
    },
    {
      "cell_type": "code",
      "execution_count": null,
      "metadata": {
        "colab": {
          "base_uri": "https://localhost:8080/"
        },
        "id": "MmGduQkcKO2-",
        "outputId": "c2137286-5d19-41be-bbf5-fe6fee1c1925"
      },
      "outputs": [
        {
          "output_type": "stream",
          "name": "stdout",
          "text": [
            "\n",
            "1. Add Task\n",
            "2. View Tasks\n",
            "3. Delete Task\n",
            "4. Exit\n",
            "Choose an option: 1\n",
            "Enter a new task: Buy groceries \n",
            "Task added successfully!\n",
            "\n",
            "1. Add Task\n",
            "2. View Tasks\n",
            "3. Delete Task\n",
            "4. Exit\n",
            "Choose an option: 1\n",
            "Enter a new task: Complete assignment \n",
            "Task added successfully!\n",
            "\n",
            "1. Add Task\n",
            "2. View Tasks\n",
            "3. Delete Task\n",
            "4. Exit\n",
            "Choose an option: 1\n",
            "Enter a new task: Documentation of project \n",
            "Task added successfully!\n",
            "\n",
            "1. Add Task\n",
            "2. View Tasks\n",
            "3. Delete Task\n",
            "4. Exit\n",
            "Choose an option: 2\n",
            "\n",
            "To-Do List:\n",
            "1. Buy groceries \n",
            "2. Complete assignment \n",
            "3. Documentation of project \n",
            "\n",
            "1. Add Task\n",
            "2. View Tasks\n",
            "3. Delete Task\n",
            "4. Exit\n",
            "Choose an option: 2\n",
            "\n",
            "To-Do List:\n",
            "1. Buy groceries \n",
            "2. Complete assignment \n",
            "3. Documentation of project \n",
            "\n",
            "1. Add Task\n",
            "2. View Tasks\n",
            "3. Delete Task\n",
            "4. Exit\n",
            "Choose an option: 3\n",
            "\n",
            "To-Do List:\n",
            "1. Buy groceries \n",
            "2. Complete assignment \n",
            "3. Documentation of project \n",
            "Enter the task number to delete: 3\n",
            "Task 'Documentation of project ' deleted successfully!\n",
            "\n",
            "1. Add Task\n",
            "2. View Tasks\n",
            "3. Delete Task\n",
            "4. Exit\n",
            "Choose an option: 4\n",
            "Goodbye!\n"
          ]
        }
      ],
      "source": [
        "\n",
        "\n",
        "import os\n",
        "\n",
        "TASK_FILE = 'tasks.txt'\n",
        "\n",
        "def load_tasks():\n",
        "    if not os.path.exists(TASK_FILE):\n",
        "        return []\n",
        "    with open(TASK_FILE, 'r') as file:\n",
        "        return [line.strip() for line in file]\n",
        "\n",
        "def save_tasks(tasks):\n",
        "    with open(TASK_FILE, 'w') as file:\n",
        "        for task in tasks:\n",
        "            file.write(task + '\\n')\n",
        "\n",
        "def add_task(tasks):\n",
        "    task = input(\"Enter a new task: \")\n",
        "    tasks.append(task)\n",
        "    print(\"Task added successfully!\")\n",
        "\n",
        "def view_tasks(tasks):\n",
        "    if not tasks:\n",
        "        print(\"No tasks available.\")\n",
        "        return\n",
        "    print(\"\\nTo-Do List:\")\n",
        "    for i, task in enumerate(tasks, start=1):\n",
        "        print(f\"{i}. {task}\")\n",
        "\n",
        "def delete_task(tasks):\n",
        "    view_tasks(tasks)\n",
        "    try:\n",
        "        index = int(input(\"Enter the task number to delete: \")) - 1\n",
        "        if 0 <= index < len(tasks):\n",
        "            removed_task = tasks.pop(index)\n",
        "            print(f\"Task '{removed_task}' deleted successfully!\")\n",
        "        else:\n",
        "            print(\"Invalid task number.\")\n",
        "    except ValueError:\n",
        "        print(\"Invalid input. Please enter a number.\")\n",
        "\n",
        "def main():\n",
        "    tasks = load_tasks()\n",
        "    while True:\n",
        "        print(\"\\n1. Add Task\\n2. View Tasks\\n3. Delete Task\\n4. Exit\")\n",
        "        choice = input(\"Choose an option: \")\n",
        "        if choice == '1':\n",
        "            add_task(tasks)\n",
        "        elif choice == '2':\n",
        "            view_tasks(tasks)\n",
        "        elif choice == '3':\n",
        "            delete_task(tasks)\n",
        "        elif choice == '4':\n",
        "            save_tasks(tasks)\n",
        "            print(\"Goodbye!\")\n",
        "            break\n",
        "        else:\n",
        "            print(\"Invalid choice. Please try again.\")\n",
        "\n",
        "if __name__ == '__main__':\n",
        "    main()"
      ]
    },
    {
      "cell_type": "code",
      "source": [],
      "metadata": {
        "id": "ei74XLCSMGcT"
      },
      "execution_count": null,
      "outputs": []
    }
  ]
}